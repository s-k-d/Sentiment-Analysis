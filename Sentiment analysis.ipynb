{
 "cells": [
  {
   "cell_type": "markdown",
   "id": "a6403627-8b68-4bea-9f8a-06791897e29b",
   "metadata": {},
   "source": [
    "# Importing Libraries"
   ]
  },
  {
   "cell_type": "code",
   "execution_count": 80,
   "id": "820c6521-06c8-49ae-8e34-400bb7b00383",
   "metadata": {},
   "outputs": [
    {
     "name": "stderr",
     "output_type": "stream",
     "text": [
      "[nltk_data] Downloading package maxent_ne_chunker to\n",
      "[nltk_data]     C:\\Users\\shivansh\\AppData\\Roaming\\nltk_data...\n",
      "[nltk_data]   Package maxent_ne_chunker is already up-to-date!\n",
      "[nltk_data] Downloading package words to\n",
      "[nltk_data]     C:\\Users\\shivansh\\AppData\\Roaming\\nltk_data...\n",
      "[nltk_data]   Package words is already up-to-date!\n",
      "[nltk_data] Downloading package stopwords to\n",
      "[nltk_data]     C:\\Users\\shivansh\\AppData\\Roaming\\nltk_data...\n",
      "[nltk_data]   Package stopwords is already up-to-date!\n"
     ]
    },
    {
     "data": {
      "text/plain": [
       "True"
      ]
     },
     "execution_count": 80,
     "metadata": {},
     "output_type": "execute_result"
    }
   ],
   "source": [
    "nltk.download('maxent_ne_chunker')\n",
    "nltk.download('words')\n",
    "nltk.download('stopwords')\n"
   ]
  },
  {
   "cell_type": "code",
   "execution_count": 112,
   "id": "d6ed081a-e025-46a1-97b6-a84cbc9a97db",
   "metadata": {},
   "outputs": [
    {
     "name": "stdout",
     "output_type": "stream",
     "text": [
      "   Rating                                             Review\n",
      "0       1  Rice don't have gravy and I have ordered norma...\n",
      "1       1                           proper packaging missing\n",
      "2       3  Not consistent with taste...sometimes its too ...\n",
      "3       5                     Amazing Service & Food Love it\n",
      "4       1                                                NaN\n"
     ]
    }
   ],
   "source": [
    "import pandas as pd\n",
    "import numpy as np\n",
    "import matplotlib.pyplot as plt \n",
    "import nltk\n",
    "import re\n",
    "import seaborn as sns\n",
    "# Load the data to inspect its structure and contents\n",
    "file_path = 'zomato_top_1000_integer_ratings_reviews.csv'\n",
    "zomato_data = pd.read_csv(file_path)\n",
    "\n",
    "# Display the first few rows to inspect\n",
    "print(zomato_data.head())\n"
   ]
  },
  {
   "cell_type": "markdown",
   "id": "8b429996-c02d-405e-8cbe-436b37fbc922",
   "metadata": {},
   "source": [
    "# 1.Exploratory Data Analysis"
   ]
  },
  {
   "cell_type": "markdown",
   "id": "02808443-7384-4f64-b7a8-0f3993486bcd",
   "metadata": {},
   "source": [
    "### 1.1Preprocessing of data "
   ]
  },
  {
   "cell_type": "code",
   "execution_count": 113,
   "id": "2d73f0e1-0edf-498a-9cae-297488a5c266",
   "metadata": {},
   "outputs": [],
   "source": [
    "def remove_non_english(text):\n",
    "    if pd.isnull(text):  # Check for NaN values\n",
    "        return text\n",
    "    # Keep only English letters, numbers, punctuation, and spaces\n",
    "    return re.sub(r'[^a-zA-Z0-9\\s.,!?]', '', text)\n",
    "\n",
    "# Apply the function to the 'Review' column\n",
    "zomato_data['Review'] = zomato_data['Review'].apply(remove_non_english)"
   ]
  },
  {
   "cell_type": "markdown",
   "id": "9dd1222c-d54c-4ee8-a6cc-5999fb964fa1",
   "metadata": {},
   "source": [
    "### 1.2 Firstly we delpoy descriptive stats"
   ]
  },
  {
   "cell_type": "code",
   "execution_count": 114,
   "id": "1d9f6d20-62ce-44e4-8b74-d6b37c8d5899",
   "metadata": {},
   "outputs": [
    {
     "data": {
      "text/plain": [
       "(1000, 2)"
      ]
     },
     "execution_count": 114,
     "metadata": {},
     "output_type": "execute_result"
    }
   ],
   "source": [
    "zomato_data.shape"
   ]
  },
  {
   "cell_type": "code",
   "execution_count": 115,
   "id": "6fc42962-273f-4c8a-b45e-efbdd67596ab",
   "metadata": {},
   "outputs": [
    {
     "data": {
      "text/plain": [
       "False"
      ]
     },
     "execution_count": 115,
     "metadata": {},
     "output_type": "execute_result"
    }
   ],
   "source": [
    "zomato_data['Rating'].isnull().any()\n"
   ]
  },
  {
   "cell_type": "code",
   "execution_count": 116,
   "id": "b6105213-cb75-4f13-86c6-ec0993a30add",
   "metadata": {},
   "outputs": [
    {
     "data": {
      "text/plain": [
       "429"
      ]
     },
     "execution_count": 116,
     "metadata": {},
     "output_type": "execute_result"
    }
   ],
   "source": [
    "zomato_data['Review'].isnull().any()\n",
    "zomato_data['Review'].isnull().sum()\n"
   ]
  },
  {
   "cell_type": "markdown",
   "id": "425070fb-43aa-495a-aca6-9b2ca4bfde0a",
   "metadata": {},
   "source": [
    "##### 1.1.1 Analysis:"
   ]
  },
  {
   "cell_type": "markdown",
   "id": "5f5f3414-f58f-4b00-b828-4a543bb52cfb",
   "metadata": {},
   "source": [
    "###### Data has 1000 rows 2 columns"
   ]
  },
  {
   "cell_type": "markdown",
   "id": "8046d47c-5d3a-40bd-af02-1846c245cd1c",
   "metadata": {},
   "source": [
    "###### Ratings columnn does not has any null values"
   ]
  },
  {
   "cell_type": "markdown",
   "id": "a33a1cc1-d212-433e-826d-c1025fa0886d",
   "metadata": {},
   "source": [
    "###### Review column has null values"
   ]
  },
  {
   "cell_type": "markdown",
   "id": "f64422b3-33a2-4b00-8e4c-d2459b5e1fd1",
   "metadata": {},
   "source": [
    "###### This data has 42% null values"
   ]
  },
  {
   "cell_type": "code",
   "execution_count": null,
   "id": "52e8352b-d659-4b43-a3b3-9cbc81221547",
   "metadata": {},
   "outputs": [],
   "source": []
  },
  {
   "cell_type": "code",
   "execution_count": 117,
   "id": "31d10b96-d528-404d-92cf-baad86cece9f",
   "metadata": {},
   "outputs": [
    {
     "data": {
      "text/plain": [
       "count    1000.000000\n",
       "mean        2.853000\n",
       "std         1.825575\n",
       "min         1.000000\n",
       "25%         1.000000\n",
       "50%         2.000000\n",
       "75%         5.000000\n",
       "max         5.000000\n",
       "Name: Rating, dtype: float64"
      ]
     },
     "execution_count": 117,
     "metadata": {},
     "output_type": "execute_result"
    }
   ],
   "source": [
    "zomato_data['Rating'].describe()"
   ]
  },
  {
   "cell_type": "markdown",
   "id": "e7f42953-0721-4315-a9b0-c111501e09c8",
   "metadata": {},
   "source": [
    "###### This average is skewed towards the middle, suggesting that customers are not highly satisfied overall, as a rating of 3 is often seen as neutral."
   ]
  },
  {
   "cell_type": "code",
   "execution_count": 118,
   "id": "8049cfd9-8cb3-4b45-b3ab-1406f92e4026",
   "metadata": {},
   "outputs": [
    {
     "name": "stdout",
     "output_type": "stream",
     "text": [
      "Average rating excluding 3-star ratings: 2.842443729903537\n"
     ]
    }
   ],
   "source": [
    "filtered_data = zomato_data[zomato_data['Rating'] != 3]\n",
    "\n",
    "# Calculate the average rating excluding 3-star ratings\n",
    "average_rating_excluding_3 = filtered_data['Rating'].mean()\n",
    "\n",
    "print(\"Average rating excluding 3-star ratings:\", average_rating_excluding_3)"
   ]
  },
  {
   "cell_type": "code",
   "execution_count": 119,
   "id": "4b0cb9e6-b1c7-4a6d-9aab-ed3e833b0067",
   "metadata": {},
   "outputs": [
    {
     "data": {
      "image/png": "[encoded data removed]",
      "text/plain": [
       "<Figure size 1000x600 with 1 Axes>"
      ]
     },
     "metadata": {},
     "output_type": "display_data"
    }
   ],
   "source": [
    "rating_counts = zomato_data['Rating'].value_counts().sort_index()\n",
    "\n",
    "# Plot the bar graph\n",
    "plt.figure(figsize=(10, 6))\n",
    "plt.bar(rating_counts.index, rating_counts.values, color='#E23744')  # Zomato's logo color\n",
    "\n",
    "# Add labels and title with professional styling\n",
    "plt.xlabel('Rating', fontsize=14, labelpad=10, fontweight='bold')\n",
    "plt.ylabel('Frequency', fontsize=14, labelpad=10, fontweight='bold')\n",
    "plt.title('Distribution of Ratings for Zomato Reviews', fontsize=16, fontweight='bold', color='#333333')\n",
    "plt.xticks(rating_counts.index, fontsize=12)\n",
    "plt.yticks(fontsize=12)\n",
    "\n",
    "# Add gridlines for readability\n",
    "plt.grid(axis='y', linestyle='--', alpha=0.7)\n",
    "\n",
    "# Display the plot\n",
    "plt.show()"
   ]
  },
  {
   "cell_type": "markdown",
   "id": "145dead5-0371-4003-8a96-e9907075a66f",
   "metadata": {},
   "source": [
    "## 1.1 Analysis:\n",
    "Given that removing 3-star ratings does not shift the average significantly, it’s likely that customer experiences are polarized, with many customers having negative experiences rather than neutral ones."
   ]
  },
  {
   "cell_type": "markdown",
   "id": "6cf8c2fb-976b-44e8-b53d-9a58f687de37",
   "metadata": {},
   "source": [
    "### 1.2 Text analysis"
   ]
  },
  {
   "cell_type": "code",
   "execution_count": 120,
   "id": "678d928d-9aee-4c4c-b467-c6b387bd90f6",
   "metadata": {},
   "outputs": [
    {
     "name": "stdout",
     "output_type": "stream",
     "text": [
      "Its really awsm as always. Outlet employees are very proactive about their customer choice. They called me and asked everything before they started making food. Thank you for the lovely food\n"
     ]
    }
   ],
   "source": [
    "example=zomato_data['Review'][110]\n",
    "print(example)"
   ]
  },
  {
   "cell_type": "code",
   "execution_count": 121,
   "id": "566662f4-88ff-41a4-bde0-12eb2205e9ce",
   "metadata": {},
   "outputs": [
    {
     "data": {
      "text/plain": [
       "['Its',\n",
       " 'really',\n",
       " 'awsm',\n",
       " 'as',\n",
       " 'always',\n",
       " '.',\n",
       " 'Outlet',\n",
       " 'employees',\n",
       " 'are',\n",
       " 'very']"
      ]
     },
     "execution_count": 121,
     "metadata": {},
     "output_type": "execute_result"
    }
   ],
   "source": [
    "tokens=nltk.word_tokenize(example)\n",
    "tokens[:10]"
   ]
  },
  {
   "cell_type": "code",
   "execution_count": 122,
   "id": "40b62d5d-23d5-44d6-86a3-3c3f3e6198a5",
   "metadata": {},
   "outputs": [],
   "source": [
    "tags=nltk.pos_tag(tokens)"
   ]
  },
  {
   "cell_type": "code",
   "execution_count": 123,
   "id": "44dee89f-7a34-4528-b7fc-6e5f1ae41827",
   "metadata": {},
   "outputs": [
    {
     "name": "stdout",
     "output_type": "stream",
     "text": [
      "(S\n",
      "  Its/PRP$\n",
      "  really/RB\n",
      "  awsm/JJ\n",
      "  as/IN\n",
      "  always/RB\n",
      "  ./.\n",
      "  Outlet/CC\n",
      "  employees/NNS\n",
      "  are/VBP\n",
      "  very/RB\n",
      "  proactive/JJ\n",
      "  about/IN\n",
      "  their/PRP$\n",
      "  customer/NN\n",
      "  choice/NN\n",
      "  ./.\n",
      "  They/PRP\n",
      "  called/VBD\n",
      "  me/PRP\n",
      "  and/CC\n",
      "  asked/VBD\n",
      "  everything/NN\n",
      "  before/IN\n",
      "  they/PRP\n",
      "  started/VBD\n",
      "  making/VBG\n",
      "  food/NN\n",
      "  ./.\n",
      "  Thank/NNP\n",
      "  you/PRP\n",
      "  for/IN\n",
      "  the/DT\n",
      "  lovely/JJ\n",
      "  food/NN)\n"
     ]
    }
   ],
   "source": [
    "entities=nltk.chunk.ne_chunk(tags)\n",
    "entities.pprint()"
   ]
  },
  {
   "cell_type": "code",
   "execution_count": 124,
   "id": "a3beff6f-4804-488c-b68d-d1f3c52d5391",
   "metadata": {},
   "outputs": [
    {
     "data": {
      "text/plain": [
       "{'neg': 0.0, 'neu': 0.389, 'pos': 0.611, 'compound': 0.7419}"
      ]
     },
     "execution_count": 124,
     "metadata": {},
     "output_type": "execute_result"
    }
   ],
   "source": [
    "from nltk.sentiment.vader import SentimentIntensityAnalyzer\n",
    "from tqdm.notebook import tqdm\n",
    "sia= SentimentIntensityAnalyzer()\n",
    "sia.polarity_scores('I am so happy! in my dream')"
   ]
  },
  {
   "cell_type": "markdown",
   "id": "262f1999-f569-4dd8-bb35-cb9eac602c3b",
   "metadata": {},
   "source": [
    "### 1.2.1 Topics with maximum frequency"
   ]
  },
  {
   "cell_type": "code",
   "execution_count": 125,
   "id": "9bbc2990-0478-4fa0-aed3-de759878cce4",
   "metadata": {},
   "outputs": [
    {
     "name": "stdout",
     "output_type": "stream",
     "text": [
      "      Word  Frequency\n",
      "0  chicken        131\n",
      "1     food         99\n",
      "2     good         77\n",
      "3    order         58\n",
      "4  quality         49\n",
      "5      bad         48\n",
      "6      kfc         47\n",
      "7     cold         40\n",
      "8     rice         37\n",
      "9  missing         33\n"
     ]
    }
   ],
   "source": [
    "from nltk.corpus import stopwords\n",
    "from collections import Counter\n",
    "text_data = zomato_data['Review'].dropna().tolist()  # Replace `zomato_data` with your DataFrame name\n",
    "\n",
    "# Combine all text into a single string\n",
    "all_text = ' '.join(text_data)\n",
    "\n",
    "# Tokenize the text\n",
    "tokens = nltk.word_tokenize(all_text)\n",
    "\n",
    "# Convert to lowercase and filter out stopwords and non-alphabetic tokens\n",
    "stop_words = set(stopwords.words('english'))\n",
    "filtered_tokens = [word.lower() for word in tokens if word.isalpha() and word.lower() not in stop_words]\n",
    "\n",
    "# Count word frequencies\n",
    "word_counts = Counter(filtered_tokens)\n",
    "\n",
    "# Create a DataFrame with words and their frequencies\n",
    "word_freq_df = pd.DataFrame(word_counts.items(), columns=['Word', 'Frequency'])\n",
    "\n",
    "# Sort the DataFrame by frequency in descending order\n",
    "word_freq_df = word_freq_df.sort_values(by='Frequency', ascending=False).reset_index(drop=True)\n",
    "\n",
    "# Display the top 10 most frequent words\n",
    "print(word_freq_df.head(10))"
   ]
  },
  {
   "cell_type": "markdown",
   "id": "7bcd0b94-4ce6-4290-a046-c074f6e03c90",
   "metadata": {},
   "source": [
    "###### Analysis:\n",
    "If \"chicken\" has a frequency of 131, it means that the word \"chicken\" appears 131 times across all the reviews, regardless of how many individual reviews contain the word.\n",
    "The term \"cold\" suggests that customers often mention receiving cold food, which is usually a negative indicator for a food delivery service.\n",
    "The word \"missing\" suggests that missing items in orders is a recurring issue, likely leading to customer dissatisfaction.\n"
   ]
  },
  {
   "cell_type": "markdown",
   "id": "6a327cba-dd6f-451e-8cd9-000a7b18f092",
   "metadata": {},
   "source": [
    "### 1.2.2 Polarity scores"
   ]
  },
  {
   "cell_type": "code",
   "execution_count": 126,
   "id": "31c2b830-f38b-4e1c-9bfc-75008a8eed52",
   "metadata": {},
   "outputs": [
    {
     "name": "stdout",
     "output_type": "stream",
     "text": [
      "                                              Review  Polarity\n",
      "0  Rice dont have gravy and I have ordered normal...   -0.6798\n",
      "1                           proper packaging missing   -0.2960\n",
      "2  Not consistent with taste...sometimes its too ...    0.2732\n",
      "3                      Amazing Service  Food Love it    0.8402\n",
      "5    i ordered pepsi can but restaurant not provided    0.0000\n"
     ]
    }
   ],
   "source": [
    "def calculate_polarity(review):\n",
    "    if pd.isnull(review):\n",
    "        return None\n",
    "    return sia.polarity_scores(review)['compound']\n",
    "\n",
    "# Apply the function to the 'Review' column to get polarity scores\n",
    "zomato_data['Polarity'] = zomato_data['Review'].apply(calculate_polarity)\n",
    "\n",
    "# Filter out rows with no polarity scores (i.e., no review)\n",
    "filtered_data = zomato_data.dropna(subset=['Polarity'])\n",
    "\n",
    "# Display the first few rows with polarity scores\n",
    "print(filtered_data[['Review', 'Polarity']].head())\n",
    "\n",
    "# Optional: Save the results to a new CSV file for further analysis\n",
    "filtered_data.to_csv('zomato_reviews_with_sentiment.csv', index=False)"
   ]
  },
  {
   "cell_type": "markdown",
   "id": "e03e14f3-c927-47dc-8a57-b5b6d32ae8ee",
   "metadata": {},
   "source": [
    "##### Analysis:\n",
    "- Polarity score lies between -1 and 1:\n",
    "  - **-1**: Strongly negative sentiment\n",
    "  - **0**: Neutral sentiment (no clear positive or negative tone)\n",
    "  - **+1**: Strongly positive sentiment"
   ]
  },
  {
   "cell_type": "markdown",
   "id": "e29e7d13-ab43-44c0-97b6-b07a630a6af6",
   "metadata": {},
   "source": [
    "### 1.2.2.3 Polarity analysis"
   ]
  },
  {
   "cell_type": "code",
   "execution_count": 133,
   "id": "ea3ad449-31f7-4e8d-af5c-1dfde9b0051e",
   "metadata": {},
   "outputs": [
    {
     "name": "stdout",
     "output_type": "stream",
     "text": [
      "Mean Polarity: -0.05253047285464097\n",
      "Median Polarity: 0.0\n",
      "Standard Deviation of Polarity: 0.4160097488942298\n",
      "\n",
      "Sentiment Distribution:\n",
      " Sentiment\n",
      "Negative    217\n",
      "Neutral     204\n",
      "Positive    150\n",
      "Name: count, dtype: int64\n"
     ]
    },
    {
     "data": {
      "image/png": "[encoded data removed]",
      "text/plain": [
       "<Figure size 1000x600 with 1 Axes>"
      ]
     },
     "metadata": {},
     "output_type": "display_data"
    },
    {
     "name": "stderr",
     "output_type": "stream",
     "text": [
      "C:\\Users\\shivansh\\AppData\\Local\\Temp\\ipykernel_12972\\1569845907.py:35: FutureWarning: \n",
      "\n",
      "Passing `palette` without assigning `hue` is deprecated and will be removed in v0.14.0. Assign the `x` variable to `hue` and set `legend=False` for the same effect.\n",
      "\n",
      "  sns.countplot(x='Sentiment', data=filtered_data, palette='coolwarm')\n"
     ]
    },
    {
     "data": {
      "image/png": "[encoded data removed]",
      "text/plain": [
       "<Figure size 800x500 with 1 Axes>"
      ]
     },
     "metadata": {},
     "output_type": "display_data"
    },
    {
     "name": "stdout",
     "output_type": "stream",
     "text": [
      "\n",
      "Correlation between Rating and Polarity Score: 0.6528887995204626\n"
     ]
    }
   ],
   "source": [
    "mean_polarity = filtered_data['Polarity'].mean()\n",
    "median_polarity = filtered_data['Polarity'].median()\n",
    "std_polarity = filtered_data['Polarity'].std()\n",
    "\n",
    "print(f\"Mean Polarity: {mean_polarity}\")\n",
    "print(f\"Median Polarity: {median_polarity}\")\n",
    "print(f\"Standard Deviation of Polarity: {std_polarity}\")\n",
    "\n",
    "# Classify sentiment based on polarity score\n",
    "def classify_sentiment(score):\n",
    "    if score > 0.05:\n",
    "        return 'Positive'\n",
    "    elif score < -0.05:\n",
    "        return 'Negative'\n",
    "    else:\n",
    "        return 'Neutral'\n",
    "\n",
    "# Use .loc to add the 'Sentiment' column without triggering SettingWithCopyWarning\n",
    "filtered_data.loc[:, 'Sentiment'] = filtered_data['Polarity'].apply(classify_sentiment)\n",
    "\n",
    "# Count the number of positive, neutral, and negative reviews\n",
    "sentiment_counts = filtered_data['Sentiment'].value_counts()\n",
    "print(\"\\nSentiment Distribution:\\n\", sentiment_counts)\n",
    "\n",
    "# Visualize the distribution of polarity scores\n",
    "plt.figure(figsize=(10, 6))\n",
    "sns.histplot(filtered_data['Polarity'], bins=20, kde=True, color='skyblue')\n",
    "plt.title('Distribution of Polarity Scores')\n",
    "plt.xlabel('Polarity Score')\n",
    "plt.ylabel('Frequency')\n",
    "plt.show()\n",
    "\n",
    "# Visualize the count of positive, neutral, and negative reviews\n",
    "plt.figure(figsize=(8, 5))\n",
    "sns.countplot(x='Sentiment', data=filtered_data, palette='coolwarm')\n",
    "plt.title('Sentiment Distribution')\n",
    "plt.xlabel('Sentiment')\n",
    "plt.ylabel('Count')\n",
    "plt.show()\n",
    "\n",
    "# Optional: If there is a rating column, analyze the correlation with polarity score\n",
    "if 'Rating' in filtered_data.columns:\n",
    "    correlation = filtered_data['Rating'].corr(filtered_data['Polarity'])\n",
    "    print(\"\\nCorrelation between Rating and Polarity Score:\", correlation)"
   ]
  },
  {
   "cell_type": "markdown",
   "id": "3995230e-2f8b-4bf3-b8ad-e0139200c5b5",
   "metadata": {},
   "source": [
    "##### Analysis:\n",
    "A mean polarity of -0.05 is close to zero but slightly negative. This suggests that, on average, the overall sentiment is mildly negative.\n",
    "Since the mean is negative, it implies that there might be more dissatisfaction or complaints in the reviews, though the negative sentiment isn’t very strong."
   ]
  },
  {
   "cell_type": "code",
   "execution_count": null,
   "id": "b09bb92d-81a8-4bef-a296-11d2b3acd1a2",
   "metadata": {},
   "outputs": [],
   "source": []
  },
  {
   "cell_type": "code",
   "execution_count": null,
   "id": "2a410a60-6bf1-436e-8587-da877439f9d9",
   "metadata": {},
   "outputs": [],
   "source": []
  }
 ],
 "metadata": {
  "kernelspec": {
   "display_name": "Python 3 (ipykernel)",
   "language": "python",
   "name": "python3"
  },
  "language_info": {
   "codemirror_mode": {
    "name": "ipython",
    "version": 3
   },
   "file_extension": ".py",
   "mimetype": "text/x-python",
   "name": "python",
   "nbconvert_exporter": "python",
   "pygments_lexer": "ipython3",
   "version": "3.12.4"
  }
 },
 "nbformat": 4,
 "nbformat_minor": 5
}
